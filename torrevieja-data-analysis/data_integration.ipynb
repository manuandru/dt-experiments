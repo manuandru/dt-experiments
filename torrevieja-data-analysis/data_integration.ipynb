{
 "cells": [
  {
   "cell_type": "markdown",
   "metadata": {},
   "source": [
    "# Torrevieja Data Integration"
   ]
  },
  {
   "cell_type": "code",
   "execution_count": null,
   "metadata": {},
   "outputs": [],
   "source": [
    "import os\n",
    "import json\n",
    "import pandas as pd"
   ]
  },
  {
   "cell_type": "markdown",
   "metadata": {},
   "source": [
    "## Weather Station"
   ]
  },
  {
   "cell_type": "markdown",
   "metadata": {},
   "source": [
    "### Input format\n",
    "\n",
    "JSON file has the following structure:\n",
    "\n",
    "```json\n",
    "{\n",
    "    \"series\": {\n",
    "        \"temperatura\": {\n",
    "            \"sensor-name\": [\n",
    "                [ \"unix-timestamp1\", \"value1\" ],\n",
    "                [ \"unix-timestamp2\", \"value2\" ]\n",
    "            ],\n",
    "        },\n",
    "        \"humedad\": {\n",
    "            \"sensor-name\": [\n",
    "                [ \"unix-timestamp\", \"value\" ]\n",
    "            ],\n",
    "        },\n",
    "        \"presion\": {\n",
    "            \"sensor-name\": [\n",
    "                [ \"unix-timestamp\", \"value\" ]\n",
    "            ],\n",
    "        }\n",
    "    }\n",
    "}\n",
    "```\n",
    "\n",
    "### Output format\n",
    "\n",
    "The output will be a CSV file with the following columns:\n",
    "\n",
    "- `timestamp`\n",
    "- `temperature`\n",
    "- `humidity`\n",
    "- `pressure`"
   ]
  },
  {
   "cell_type": "code",
   "execution_count": null,
   "metadata": {},
   "outputs": [],
   "source": [
    "folder_path = \"json_data/weather-station\"\n",
    "sensor_name = \"5rTM-4sB-iVpGSRJcSJV_La Mata - Parque Natural_38.02519_-0.65845_0\"\n",
    "file_name = sensor_name.replace(\" \", \"_\") + \"_2024\"\n",
    "file_path = os.path.join(folder_path, file_name + \".json\")\n",
    "\n",
    "with open(file_path) as f:\n",
    "    data = json.load(f)"
   ]
  },
  {
   "cell_type": "code",
   "execution_count": null,
   "metadata": {},
   "outputs": [],
   "source": [
    "df_temperature = pd.DataFrame(data['series']['temperatura'][sensor_name], columns=['timestamp', 'temperature'])\n",
    "df_humidity = pd.DataFrame(data['series']['humedad'][sensor_name], columns=['timestamp', 'humidity'])\n",
    "df_pressure = pd.DataFrame(data['series']['presion'][sensor_name], columns=['timestamp', 'pressure'])\n",
    "\n",
    "df_temperature.drop_duplicates(subset='timestamp', keep='first', inplace=True)\n",
    "df_humidity.drop_duplicates(subset='timestamp', keep='first', inplace=True)\n",
    "df_pressure.drop_duplicates(subset='timestamp', keep='first', inplace=True)\n",
    "\n",
    "df_temperature['timestamp'] = pd.to_datetime(df_temperature['timestamp'], unit='ms')\n",
    "df_humidity['timestamp'] = pd.to_datetime(df_humidity['timestamp'], unit='ms')\n",
    "df_pressure['timestamp'] = pd.to_datetime(df_pressure['timestamp'], unit='ms')\n",
    "\n",
    "df = pd.merge(df_temperature, df_humidity, how='inner', on='timestamp')\n",
    "df = pd.merge(df, df_pressure, how='inner', on='timestamp')\n",
    "\n",
    "df.set_index('timestamp', inplace=True)"
   ]
  },
  {
   "cell_type": "code",
   "execution_count": null,
   "metadata": {},
   "outputs": [],
   "source": [
    "df.to_csv(file_name + \".csv\")"
   ]
  }
 ],
 "metadata": {
  "kernelspec": {
   "display_name": "torrevieja",
   "language": "python",
   "name": "python3"
  },
  "language_info": {
   "codemirror_mode": {
    "name": "ipython",
    "version": 3
   },
   "file_extension": ".py",
   "mimetype": "text/x-python",
   "name": "python",
   "nbconvert_exporter": "python",
   "pygments_lexer": "ipython3",
   "version": "3.12.4"
  }
 },
 "nbformat": 4,
 "nbformat_minor": 2
}
