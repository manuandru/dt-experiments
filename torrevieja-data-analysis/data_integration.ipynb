{
 "cells": [
  {
   "cell_type": "markdown",
   "metadata": {},
   "source": [
    "# Torrevieja Data Integration"
   ]
  },
  {
   "cell_type": "code",
   "execution_count": null,
   "metadata": {},
   "outputs": [],
   "source": [
    "import os\n",
    "import json\n",
    "import pandas as pd"
   ]
  },
  {
   "cell_type": "markdown",
   "metadata": {},
   "source": [
    "## Weather Station"
   ]
  },
  {
   "cell_type": "markdown",
   "metadata": {},
   "source": [
    "### Input format\n",
    "\n",
    "JSON file has the following structure:\n",
    "\n",
    "```json\n",
    "{\n",
    "    \"series\": {\n",
    "        \"temperatura\": {\n",
    "            \"sensor-id\": [\n",
    "                [ \"unix-timestamp1\", \"value1\" ],\n",
    "                [ \"unix-timestamp2\", \"value2\" ]\n",
    "            ],\n",
    "        },\n",
    "        \"humedad\": {\n",
    "            \"sensor-name\": [\n",
    "                [ \"unix-timestamp\", \"value\" ]\n",
    "            ],\n",
    "        },\n",
    "        \"presion\": {\n",
    "            \"sensor-name\": [\n",
    "                [ \"unix-timestamp\", \"value\" ]\n",
    "            ],\n",
    "        }\n",
    "    }\n",
    "}\n",
    "```\n",
    "\n",
    "### Output format\n",
    "\n",
    "The output will be a CSV file with the following columns:\n",
    "\n",
    "- `timestamp`\n",
    "- `temperature`\n",
    "- `humidity`\n",
    "- `pressure`"
   ]
  },
  {
   "cell_type": "code",
   "execution_count": null,
   "metadata": {},
   "outputs": [],
   "source": [
    "folder_path = \"json_data/weather-station\"\n",
    "sensor_id = \"5rTM-4sB-iVpGSRJcSJV_La Mata - Parque Natural_38.02519_-0.65845_0\"\n",
    "file_name = sensor_id.replace(\" \", \"_\") + \"_2024\"\n",
    "file_path = os.path.join(folder_path, file_name + \".json\")\n",
    "\n",
    "with open(file_path) as f:\n",
    "    data = json.load(f)"
   ]
  },
  {
   "cell_type": "code",
   "execution_count": null,
   "metadata": {},
   "outputs": [],
   "source": [
    "df_temperature = pd.DataFrame(data['series']['temperatura'][sensor_id], columns=['timestamp', 'temperature'])\n",
    "df_humidity = pd.DataFrame(data['series']['humedad'][sensor_id], columns=['timestamp', 'humidity'])\n",
    "df_pressure = pd.DataFrame(data['series']['presion'][sensor_id], columns=['timestamp', 'pressure'])\n",
    "\n",
    "df_temperature.drop_duplicates(subset='timestamp', keep='first', inplace=True)\n",
    "df_humidity.drop_duplicates(subset='timestamp', keep='first', inplace=True)\n",
    "df_pressure.drop_duplicates(subset='timestamp', keep='first', inplace=True)\n",
    "\n",
    "# df_temperature['timestamp'] = pd.to_datetime(df_temperature['timestamp'], unit='ms')\n",
    "# df_humidity['timestamp'] = pd.to_datetime(df_humidity['timestamp'], unit='ms')\n",
    "# df_pressure['timestamp'] = pd.to_datetime(df_pressure['timestamp'], unit='ms')\n",
    "\n",
    "df = pd.merge(df_temperature, df_humidity, how='inner', on='timestamp')\n",
    "df = pd.merge(df, df_pressure, how='inner', on='timestamp')\n",
    "\n",
    "df.set_index('timestamp', inplace=True)"
   ]
  },
  {
   "cell_type": "code",
   "execution_count": null,
   "metadata": {},
   "outputs": [],
   "source": [
    "df.to_csv(file_name + \".csv\")"
   ]
  },
  {
   "cell_type": "markdown",
   "metadata": {},
   "source": [
    "## Sonometer\n",
    "\n",
    "### Input format\n",
    "\n",
    "JSON file has the following structure:\n",
    "\n",
    "```json\n",
    "{\n",
    "    \"series\": {\n",
    "        \"noise\": {\n",
    "            \"sensor-id\": [\n",
    "                [ \"unix-timestamp\", \"value\" ]\n",
    "            ],\n",
    "        },\n",
    "        \"humidity\": {\n",
    "            \"sensor-name\": [\n",
    "                [ \"unix-timestamp\", \"value\" ]\n",
    "            ],\n",
    "        },\n",
    "        \"temperature\": {\n",
    "            \"sensor-name\": [\n",
    "                [ \"unix-timestamp\", \"value\" ]\n",
    "            ],\n",
    "        },\n",
    "    }\n",
    "}\n",
    "```\n",
    "\n",
    "### Output format\n",
    "\n",
    "The output will be a CSV file with the following columns:\n",
    "\n",
    "- `timestamp`\n",
    "- `noise`\n",
    "\n",
    "`humidity` and `temperature` will be ignored, because are already present in the weather station data."
   ]
  },
  {
   "cell_type": "code",
   "execution_count": null,
   "metadata": {},
   "outputs": [],
   "source": [
    "folder_path = \"json_data/sonometer\"\n",
    "file_name = \"sonometros_dataset_l1_2024\"\n",
    "file_path = os.path.join(folder_path, file_name + \".json\")\n",
    "\n",
    "with open(file_path) as f:\n",
    "    data = json.load(f)"
   ]
  },
  {
   "cell_type": "code",
   "execution_count": null,
   "metadata": {},
   "outputs": [],
   "source": [
    "sensor_id = list(data['series']['noise'].keys())[0]\n",
    "\n",
    "df_noise = pd.DataFrame(data['series']['noise'][sensor_id], columns=['timestamp', 'noise'])\n",
    "\n",
    "df_noise.drop_duplicates(subset='timestamp', keep='first', inplace=True)\n",
    "# df_noise['timestamp'] = pd.to_datetime(df_noise['timestamp'], unit='ms')\n",
    "df_noise.set_index('timestamp', inplace=True)"
   ]
  },
  {
   "cell_type": "code",
   "execution_count": null,
   "metadata": {},
   "outputs": [],
   "source": [
    "df_noise.to_csv(file_name + \".csv\")"
   ]
  },
  {
   "cell_type": "markdown",
   "metadata": {},
   "source": [
    "## Buoy\n",
    "\n",
    "### Input format\n",
    "\n",
    "JSON file has the following structure:\n",
    "\n",
    "```json\n",
    "{\n",
    "    \"series\": {\n",
    "        \"temperature_a\": {\n",
    "            \"sensor-1\": [\n",
    "                [ \"unix-timestamp\", \"value\" ]\n",
    "            ],\n",
    "            \"sensor-2\": [\n",
    "                [ \"unix-timestamp\", \"value\" ]\n",
    "            ],\n",
    "            \"...\"\n",
    "        },\n",
    "        \"temperature_b\": {\n",
    "            \"...\"\n",
    "        }\n",
    "    }\n",
    "}\n",
    "```\n",
    "\n",
    "Here, data about water temperature is extracted from `temperature_a`, with 2 different sensors, based on the depths of 0.2 and 0.7 meters respectively.\n",
    "\n",
    "### Output format\n",
    "\n",
    "The output will be a CSV file with the following columns:\n",
    "\n",
    "- `timestamp`\n",
    "- `temperature_02_meters`\n",
    "- `temperature_07_meters`"
   ]
  },
  {
   "cell_type": "code",
   "execution_count": null,
   "metadata": {},
   "outputs": [],
   "source": [
    "folder_path = \"json_data\"\n",
    "file_name = \"boya_dataset\"\n",
    "file_path = os.path.join(folder_path, file_name + \".json\")\n",
    "\n",
    "id_sensor_02_meters = \"UVztVI0BaNT-uedBhHl1_Profundidad: -0.2m_38.03635_-0.68998_-2.2\"\n",
    "id_sensor_07_meters = \"UVztVI0BaNT-uedBhHl1_Profundidad: -0.7m_38.03635_-0.68998_-2.7\"\n",
    "\n",
    "with open(file_path) as f:\n",
    "    data = json.load(f)"
   ]
  },
  {
   "cell_type": "code",
   "execution_count": null,
   "metadata": {},
   "outputs": [],
   "source": [
    "df_sensor_02 = pd.DataFrame(data['series']['temperature_a'][id_sensor_02_meters], columns=['timestamp', 'temperature_02'])\n",
    "df_sensor_07 = pd.DataFrame(data['series']['temperature_a'][id_sensor_07_meters], columns=['timestamp', 'temperature_07'])\n",
    "\n",
    "df_sensor_02.drop_duplicates(subset='timestamp', keep='first', inplace=True)\n",
    "df_sensor_07.drop_duplicates(subset='timestamp', keep='first', inplace=True)\n",
    "\n",
    "df_water_temperature = pd.merge(df_sensor_02, df_sensor_07, how='inner', on='timestamp')\n",
    "df_water_temperature.set_index('timestamp', inplace=True)"
   ]
  },
  {
   "cell_type": "markdown",
   "metadata": {},
   "source": [
    "### Data cleaning\n",
    "\n",
    "Some temperature measures are invalid (< -10 degrees), so they will be removed."
   ]
  },
  {
   "cell_type": "code",
   "execution_count": null,
   "metadata": {},
   "outputs": [],
   "source": [
    "df_water_temperature = df_water_temperature[(df_water_temperature['temperature_02'] >= -10.0) & (df_water_temperature['temperature_07'] >= -10.0)]"
   ]
  },
  {
   "cell_type": "code",
   "execution_count": null,
   "metadata": {},
   "outputs": [],
   "source": [
    "df_water_temperature.to_csv(file_name + \".csv\")"
   ]
  }
 ],
 "metadata": {
  "kernelspec": {
   "display_name": "torrevieja",
   "language": "python",
   "name": "python3"
  },
  "language_info": {
   "codemirror_mode": {
    "name": "ipython",
    "version": 3
   },
   "file_extension": ".py",
   "mimetype": "text/x-python",
   "name": "python",
   "nbconvert_exporter": "python",
   "pygments_lexer": "ipython3",
   "version": "3.12.4"
  }
 },
 "nbformat": 4,
 "nbformat_minor": 2
}
