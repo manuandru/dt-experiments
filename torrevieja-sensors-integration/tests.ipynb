{
 "cells": [
  {
   "cell_type": "code",
   "execution_count": null,
   "metadata": {},
   "outputs": [],
   "source": [
    "import requests, json"
   ]
  },
  {
   "cell_type": "code",
   "execution_count": null,
   "metadata": {},
   "outputs": [],
   "source": [
    "sensors = {\n",
    "    \"sonometer\": \"cVDqRI0BmK9pjniFeoOV\",\n",
    "    \"depth\": \"jRCJ548B1ljoqTiFLu0b\",\n",
    "    \"weather\": \"5rTM-4sB-iVpGSRJcSJV\",\n",
    "    \"counter_indoor\": \"hup4zYsBoTGoLusGWiIj\",\n",
    "    \"satellite\": \"2DjL-4sBzJIAy7teICbv\",\n",
    "    \"buoy\": \"UVztVI0BaNT-uedBhHl1\"\n",
    "}\n",
    "\n",
    "def get_url(sensor_id):\n",
    "    return f\"https://platon.grc.upv.es/sensingtools-api/api/user-hard-sensors/{sensor_id}/data/latest-values\""
   ]
  },
  {
   "cell_type": "code",
   "execution_count": null,
   "metadata": {},
   "outputs": [],
   "source": [
    "for sensor, sensor_id in sensors.items():\n",
    "    response = requests.get(get_url(sensor_id), verify=False)\n",
    "    with open(f\"sensors-data/{sensor}.json\", 'w') as f:\n",
    "        json.dump(response.json(), f, indent=4)"
   ]
  },
  {
   "cell_type": "code",
   "execution_count": null,
   "metadata": {},
   "outputs": [],
   "source": [
    "for d in data['data']:\n",
    "    print(d['sensor_type'])"
   ]
  },
  {
   "cell_type": "code",
   "execution_count": null,
   "metadata": {},
   "outputs": [],
   "source": [
    "response = requests.get(\"http://localhost:3000/data\").json()\n",
    "\n",
    "ids = set()\n",
    "for d in response['data']:\n",
    "    ids.add(d['location_id'])\n",
    "len(ids)"
   ]
  },
  {
   "cell_type": "code",
   "execution_count": null,
   "metadata": {},
   "outputs": [],
   "source": [
    "from dataclasses import dataclass\n",
    "\n",
    "@dataclass(frozen=True)\n",
    "class SensorInfo:\n",
    "    location_id: str # <sensorId>_<name>_<lat>_<lon>_<alt>\n",
    "    safe_location_id: str\n",
    "    sensor_id: str\n",
    "    name: str\n",
    "    timestamp: int # Unix ms timestamp\n",
    "    lat: str\n",
    "    lon: str\n",
    "    alt: str\n",
    "\n",
    "    def __eq__(self, value: object) -> bool:\n",
    "        return isinstance(value, SensorInfo) and value.location_id == self.location_id\n",
    "    \n",
    "    def __hash__(self) -> int:\n",
    "        return hash(self.location_id)\n",
    "\n",
    "class SensorMeasurement:\n",
    "    def __init__(self, sensor_info: SensorInfo, data: dict):\n",
    "        self.sensor_info = sensor_info\n",
    "        for key, value in data.items():\n",
    "            self.__setattr__(key, value)\n",
    "    \n",
    "    def toJSON(self):\n",
    "        return json.dumps(self, default=lambda o: o.__dict__, indent=4)"
   ]
  },
  {
   "cell_type": "code",
   "execution_count": null,
   "metadata": {},
   "outputs": [],
   "source": [
    "from base64 import b64encode\n",
    "\n",
    "def parse_request_data(sensor_id, data) -> dict[SensorInfo, dict[str, str]]:\n",
    "    sensors_data: dict[SensorInfo, dict[str, str]] = {}\n",
    "    for data in response['data']:\n",
    "        sensor_info = SensorInfo(\n",
    "            location_id=data['location_id'],\n",
    "            safe_location_id=b64encode(data['location_id'].encode()),\n",
    "            sensor_id=sensor_id,\n",
    "            name=data['name'],\n",
    "            timestamp=data['timestamp'],\n",
    "            lat=data['lat'],\n",
    "            lon=data['lon'],\n",
    "            alt=data['alt']\n",
    "        )\n",
    "        if sensor_info not in sensors_data:\n",
    "            sensors_data[sensor_info] = {}\n",
    "        sensors_data[sensor_info][data['sensor_type']] = data['value']\n",
    "    return sensors_data"
   ]
  },
  {
   "cell_type": "code",
   "execution_count": null,
   "metadata": {},
   "outputs": [],
   "source": [
    "endpoints = [\"buoy\", \"counter_indoor\", \"depth\", \"satellite\", \"sonometer\", \"weather\"]\n",
    "inputs = []\n",
    "result = []\n",
    "\n",
    "for endpoint in endpoints:\n",
    "    response = requests.get(f\"http://localhost:3000/{endpoint}\").json()\n",
    "    inputs.append(response)\n",
    "    sensors_data = parse_request_data(sensors[endpoint], response)\n",
    "    result.append(sensors_data)"
   ]
  },
  {
   "cell_type": "code",
   "execution_count": null,
   "metadata": {},
   "outputs": [],
   "source": [
    "from paho.mqtt import client as mqtt_client\n",
    "\n",
    "broker = 'localhost'\n",
    "port = 1883\n",
    "# topic = \"sensors/\"\n",
    "\n",
    "def connect_mqtt() -> mqtt_client.Client:\n",
    "    def on_connect(client, userdata, flags, rc):\n",
    "        if rc == 0:\n",
    "            print(\"Connected to MQTT Broker!\")\n",
    "        else:\n",
    "            print(\"Failed to connect, return code %d\\n\", rc)\n",
    "\n",
    "    client = mqtt_client.Client()\n",
    "    client.on_connect = on_connect\n",
    "    client.connect(broker, port)\n",
    "    return client\n",
    "\n",
    "def publish(client, topic, msg):\n",
    "    result = client.publish(topic, msg)\n",
    "    status = result[0]\n",
    "    if status == 0:\n",
    "        print(f\"Send `{msg}` to topic `{topic}`\")\n",
    "    else:\n",
    "        print(f\"Failed to send message to topic {topic}\")\n",
    "\n",
    "client = connect_mqtt()\n",
    "# client.loop_start()\n",
    "\n",
    "for data in result:\n",
    "    for sensor_info, data in data.items():\n",
    "        sensor_measurement = SensorMeasurement(sensor_info, data)\n",
    "        publish(client, f\"sensors/{sensor_measurement.sensor_info.location_id}\", sensor_measurement.toJSON())"
   ]
  },
  {
   "cell_type": "code",
   "execution_count": null,
   "metadata": {},
   "outputs": [],
   "source": [
    "measure = SensorMeasurement(sensor_info, sensors_data[sensor_info])\n",
    "\n",
    "for sensor_info, data in sensors_data.items():\n",
    "    measure = SensorMeasurement(sensor_info, data)\n",
    "    print(measure.toJSON())"
   ]
  },
  {
   "cell_type": "code",
   "execution_count": 17,
   "metadata": {},
   "outputs": [],
   "source": [
    "import pandas as pd\n",
    "\n",
    "df = pd.read_json(\"1.json\")\n",
    "df = pd.json_normalize(df['data'])"
   ]
  },
  {
   "cell_type": "code",
   "execution_count": 31,
   "metadata": {},
   "outputs": [
    {
     "data": {
      "application/vnd.microsoft.datawrangler.viewer.v0+json": {
       "columns": [
        {
         "name": "index",
         "rawType": "int64",
         "type": "integer"
        },
        {
         "name": "location_id",
         "rawType": "object",
         "type": "string"
        },
        {
         "name": "sensor_type",
         "rawType": "object",
         "type": "unknown"
        },
        {
         "name": "count",
         "rawType": "int64",
         "type": "integer"
        }
       ],
       "conversionMethod": "pd.DataFrame",
       "ref": "1bc94f9b-5b89-45e9-b18c-a8e0f3d01191",
       "rows": [
        [
         "13",
         "5rTM-4sB-iVpGSRJcSJV_Torrevieja - Los Locos_37.98490_-0.65878_0",
         "{'intensidadlluvia', 'evaporacion', 'lluviaultimahora', 'radiacionsolar', 'humedad', 'lluvia', 'temperatura', 'velocidadviento', 'puntoderocio', 'indiceuv', 'presion'}",
         "11"
        ],
        [
         "16",
         "5rTM-4sB-iVpGSRJcSJV_Torrevieja - Salinas 1_37.99140_-0.72018_0",
         "{'intensidadlluvia', 'lluviaultimahora', 'radiacionsolar', 'humedad', 'lluvia', 'temperatura', 'velocidadviento', 'evaporacionacumulada', 'puntoderocio', 'indiceuv', 'presion'}",
         "11"
        ],
        [
         "15",
         "5rTM-4sB-iVpGSRJcSJV_Torrevieja - Salinas 1_37.97845_-0.70204_0",
         "{'intensidadlluvia', 'lluviaultimahora', 'radiacionsolar', 'humedad', 'lluvia', 'temperatura', 'velocidadviento', 'evaporacionacumulada', 'puntoderocio', 'indiceuv', 'presion'}",
         "11"
        ],
        [
         "2",
         "5rTM-4sB-iVpGSRJcSJV_Los Europeos - La Mata_38.01718_-0.65404_0",
         "{'intensidadlluvia', 'lluviaultimahora', 'radiacionsolar', 'humedad', 'lluvia', 'temperatura', 'velocidadviento', 'evaporacionacumulada', 'puntoderocio', 'presion'}",
         "10"
        ],
        [
         "10",
         "5rTM-4sB-iVpGSRJcSJV_Torrevieja - IesTorrevigia_37.99866_-0.69584_0",
         "{'intensidadlluvia', 'lluviaultimahora', 'humedad', 'lluvia', 'temperatura', 'velocidadviento', 'evaporacionacumulada', 'puntoderocio', 'presion'}",
         "9"
        ],
        [
         "3",
         "5rTM-4sB-iVpGSRJcSJV_Los Montesinos - Laguna Norte_38.02156_-0.74198_0",
         "{'intensidadlluvia', 'lluviaultimahora', 'radiacionsolar', 'humedad', 'lluvia', 'temperatura', 'velocidadviento', 'puntoderocio', 'presion'}",
         "9"
        ],
        [
         "4",
         "5rTM-4sB-iVpGSRJcSJV_Rojales - Raso Pequeno_38.05471_-0.69644_0",
         "{'intensidadlluvia', 'lluviaultimahora', 'humedad', 'lluvia', 'temperatura', 'velocidadviento', 'evaporacionacumulada', 'puntoderocio', 'presion'}",
         "9"
        ],
        [
         "17",
         "5rTM-4sB-iVpGSRJcSJV_Torrevieja - Salvador Ruso_37.98507_-0.67235_0",
         "{'intensidadlluvia', 'evaporacion', 'lluviaultimahora', 'humedad', 'lluvia', 'temperatura', 'velocidadviento', 'puntoderocio', 'presion'}",
         "9"
        ],
        [
         "9",
         "5rTM-4sB-iVpGSRJcSJV_Torrevieja - ColegioRomualdo_37.95511_-0.71784_0",
         "{'intensidadlluvia', 'lluviaultimahora', 'humedad', 'lluvia', 'temperatura', 'velocidadviento', 'evaporacionacumulada', 'puntoderocio', 'presion'}",
         "9"
        ],
        [
         "11",
         "5rTM-4sB-iVpGSRJcSJV_Torrevieja - Los Balcones_Lago Jardin_37.97282_-0.72870_0",
         "{'intensidadlluvia', 'lluviaultimahora', 'humedad', 'lluvia', 'temperatura', 'velocidad viento', 'velocidadviento', 'puntoderocio', 'presion'}",
         "9"
        ],
        [
         "18",
         "5rTM-4sB-iVpGSRJcSJV_Torrevieja - San Luis_38.02427_-0.69740_0",
         "{'intensidadlluvia', 'lluviaultimahora', 'humedad', 'lluvia', 'temperatura', 'velocidadviento', 'puntoderocio', 'presion'}",
         "8"
        ],
        [
         "14",
         "5rTM-4sB-iVpGSRJcSJV_Torrevieja - Marina Salinas_37.97000_-0.68051_0",
         "{'intensidadlluvia', 'lluviaultimahora', 'humedad', 'lluvia', 'temperatura', 'velocidadviento', 'puntoderocio', 'presion'}",
         "8"
        ],
        [
         "19",
         "5rTM-4sB-iVpGSRJcSJV_Waldo Calero - Torrevieja_37.97616_-0.68039_0",
         "{'intensidadlluvia', 'lluviaultimahora', 'humedad', 'lluvia', 'temperatura', 'velocidadviento', 'puntoderocio', 'presion'}",
         "8"
        ],
        [
         "12",
         "5rTM-4sB-iVpGSRJcSJV_Torrevieja - Los Balcones_NaN_37.97282_-0.72870",
         "{'intensidadlluvia', 'lluviaultimahora', 'humedad', 'lluvia', 'temperatura', 'velocidadviento', 'puntoderocio', 'presion'}",
         "8"
        ],
        [
         "1",
         "5rTM-4sB-iVpGSRJcSJV_La Mata - Restaurante Alma_38.02185_-0.65372_0",
         "{'intensidadlluvia', 'lluviaultimahora', 'humedad', 'lluvia', 'temperatura', 'velocidadviento', 'puntoderocio', 'presion'}",
         "8"
        ],
        [
         "8",
         "5rTM-4sB-iVpGSRJcSJV_Torrevieja - Centro_37.97616_-0.68223_0",
         "{'intensidadlluvia', 'lluviaultimahora', 'humedad', 'lluvia', 'temperatura', 'velocidadviento', 'puntoderocio', 'presion'}",
         "8"
        ],
        [
         "7",
         "5rTM-4sB-iVpGSRJcSJV_Torrevieja - Aguas Nuevas_37.99834_-0.66475_0",
         "{'intensidadlluvia', 'lluviaultimahora', 'humedad', 'lluvia', 'temperatura', 'velocidadviento', 'puntoderocio', 'presion'}",
         "8"
        ],
        [
         "6",
         "5rTM-4sB-iVpGSRJcSJV_Torrevieja - Acequion_37.97999_-0.68862_0",
         "{'intensidadlluvia', 'lluviaultimahora', 'humedad', 'lluvia', 'temperatura', 'velocidadviento', 'puntoderocio', 'presion'}",
         "8"
        ],
        [
         "5",
         "5rTM-4sB-iVpGSRJcSJV_San Miguel_37.98729_-0.76613_0",
         "{'intensidadlluvia', 'humedad', 'lluvia', 'temperatura', 'velocidadviento', 'puntoderocio', 'presion'}",
         "7"
        ],
        [
         "0",
         "5rTM-4sB-iVpGSRJcSJV_La Mata - Parque Natural_38.02519_-0.65845_0",
         "{'intensidadlluvia', 'humedad', 'lluvia', 'temperatura', 'velocidadviento', 'puntoderocio', 'presion'}",
         "7"
        ]
       ],
       "shape": {
        "columns": 3,
        "rows": 20
       }
      },
      "text/html": [
       "<div>\n",
       "<style scoped>\n",
       "    .dataframe tbody tr th:only-of-type {\n",
       "        vertical-align: middle;\n",
       "    }\n",
       "\n",
       "    .dataframe tbody tr th {\n",
       "        vertical-align: top;\n",
       "    }\n",
       "\n",
       "    .dataframe thead th {\n",
       "        text-align: right;\n",
       "    }\n",
       "</style>\n",
       "<table border=\"1\" class=\"dataframe\">\n",
       "  <thead>\n",
       "    <tr style=\"text-align: right;\">\n",
       "      <th></th>\n",
       "      <th>location_id</th>\n",
       "      <th>sensor_type</th>\n",
       "      <th>count</th>\n",
       "    </tr>\n",
       "  </thead>\n",
       "  <tbody>\n",
       "    <tr>\n",
       "      <th>13</th>\n",
       "      <td>5rTM-4sB-iVpGSRJcSJV_Torrevieja - Los Locos_37...</td>\n",
       "      <td>{intensidadlluvia, evaporacion, lluviaultimaho...</td>\n",
       "      <td>11</td>\n",
       "    </tr>\n",
       "    <tr>\n",
       "      <th>16</th>\n",
       "      <td>5rTM-4sB-iVpGSRJcSJV_Torrevieja - Salinas 1_37...</td>\n",
       "      <td>{intensidadlluvia, lluviaultimahora, radiacion...</td>\n",
       "      <td>11</td>\n",
       "    </tr>\n",
       "    <tr>\n",
       "      <th>15</th>\n",
       "      <td>5rTM-4sB-iVpGSRJcSJV_Torrevieja - Salinas 1_37...</td>\n",
       "      <td>{intensidadlluvia, lluviaultimahora, radiacion...</td>\n",
       "      <td>11</td>\n",
       "    </tr>\n",
       "    <tr>\n",
       "      <th>2</th>\n",
       "      <td>5rTM-4sB-iVpGSRJcSJV_Los Europeos - La Mata_38...</td>\n",
       "      <td>{intensidadlluvia, lluviaultimahora, radiacion...</td>\n",
       "      <td>10</td>\n",
       "    </tr>\n",
       "    <tr>\n",
       "      <th>10</th>\n",
       "      <td>5rTM-4sB-iVpGSRJcSJV_Torrevieja - IesTorrevigi...</td>\n",
       "      <td>{intensidadlluvia, lluviaultimahora, humedad, ...</td>\n",
       "      <td>9</td>\n",
       "    </tr>\n",
       "    <tr>\n",
       "      <th>3</th>\n",
       "      <td>5rTM-4sB-iVpGSRJcSJV_Los Montesinos - Laguna N...</td>\n",
       "      <td>{intensidadlluvia, lluviaultimahora, radiacion...</td>\n",
       "      <td>9</td>\n",
       "    </tr>\n",
       "    <tr>\n",
       "      <th>4</th>\n",
       "      <td>5rTM-4sB-iVpGSRJcSJV_Rojales - Raso Pequeno_38...</td>\n",
       "      <td>{intensidadlluvia, lluviaultimahora, humedad, ...</td>\n",
       "      <td>9</td>\n",
       "    </tr>\n",
       "    <tr>\n",
       "      <th>17</th>\n",
       "      <td>5rTM-4sB-iVpGSRJcSJV_Torrevieja - Salvador Rus...</td>\n",
       "      <td>{intensidadlluvia, evaporacion, lluviaultimaho...</td>\n",
       "      <td>9</td>\n",
       "    </tr>\n",
       "    <tr>\n",
       "      <th>9</th>\n",
       "      <td>5rTM-4sB-iVpGSRJcSJV_Torrevieja - ColegioRomua...</td>\n",
       "      <td>{intensidadlluvia, lluviaultimahora, humedad, ...</td>\n",
       "      <td>9</td>\n",
       "    </tr>\n",
       "    <tr>\n",
       "      <th>11</th>\n",
       "      <td>5rTM-4sB-iVpGSRJcSJV_Torrevieja - Los Balcones...</td>\n",
       "      <td>{intensidadlluvia, lluviaultimahora, humedad, ...</td>\n",
       "      <td>9</td>\n",
       "    </tr>\n",
       "    <tr>\n",
       "      <th>18</th>\n",
       "      <td>5rTM-4sB-iVpGSRJcSJV_Torrevieja - San Luis_38....</td>\n",
       "      <td>{intensidadlluvia, lluviaultimahora, humedad, ...</td>\n",
       "      <td>8</td>\n",
       "    </tr>\n",
       "    <tr>\n",
       "      <th>14</th>\n",
       "      <td>5rTM-4sB-iVpGSRJcSJV_Torrevieja - Marina Salin...</td>\n",
       "      <td>{intensidadlluvia, lluviaultimahora, humedad, ...</td>\n",
       "      <td>8</td>\n",
       "    </tr>\n",
       "    <tr>\n",
       "      <th>19</th>\n",
       "      <td>5rTM-4sB-iVpGSRJcSJV_Waldo Calero - Torrevieja...</td>\n",
       "      <td>{intensidadlluvia, lluviaultimahora, humedad, ...</td>\n",
       "      <td>8</td>\n",
       "    </tr>\n",
       "    <tr>\n",
       "      <th>12</th>\n",
       "      <td>5rTM-4sB-iVpGSRJcSJV_Torrevieja - Los Balcones...</td>\n",
       "      <td>{intensidadlluvia, lluviaultimahora, humedad, ...</td>\n",
       "      <td>8</td>\n",
       "    </tr>\n",
       "    <tr>\n",
       "      <th>1</th>\n",
       "      <td>5rTM-4sB-iVpGSRJcSJV_La Mata - Restaurante Alm...</td>\n",
       "      <td>{intensidadlluvia, lluviaultimahora, humedad, ...</td>\n",
       "      <td>8</td>\n",
       "    </tr>\n",
       "    <tr>\n",
       "      <th>8</th>\n",
       "      <td>5rTM-4sB-iVpGSRJcSJV_Torrevieja - Centro_37.97...</td>\n",
       "      <td>{intensidadlluvia, lluviaultimahora, humedad, ...</td>\n",
       "      <td>8</td>\n",
       "    </tr>\n",
       "    <tr>\n",
       "      <th>7</th>\n",
       "      <td>5rTM-4sB-iVpGSRJcSJV_Torrevieja - Aguas Nuevas...</td>\n",
       "      <td>{intensidadlluvia, lluviaultimahora, humedad, ...</td>\n",
       "      <td>8</td>\n",
       "    </tr>\n",
       "    <tr>\n",
       "      <th>6</th>\n",
       "      <td>5rTM-4sB-iVpGSRJcSJV_Torrevieja - Acequion_37....</td>\n",
       "      <td>{intensidadlluvia, lluviaultimahora, humedad, ...</td>\n",
       "      <td>8</td>\n",
       "    </tr>\n",
       "    <tr>\n",
       "      <th>5</th>\n",
       "      <td>5rTM-4sB-iVpGSRJcSJV_San Miguel_37.98729_-0.76...</td>\n",
       "      <td>{intensidadlluvia, humedad, lluvia, temperatur...</td>\n",
       "      <td>7</td>\n",
       "    </tr>\n",
       "    <tr>\n",
       "      <th>0</th>\n",
       "      <td>5rTM-4sB-iVpGSRJcSJV_La Mata - Parque Natural_...</td>\n",
       "      <td>{intensidadlluvia, humedad, lluvia, temperatur...</td>\n",
       "      <td>7</td>\n",
       "    </tr>\n",
       "  </tbody>\n",
       "</table>\n",
       "</div>"
      ],
      "text/plain": [
       "                                          location_id  \\\n",
       "13  5rTM-4sB-iVpGSRJcSJV_Torrevieja - Los Locos_37...   \n",
       "16  5rTM-4sB-iVpGSRJcSJV_Torrevieja - Salinas 1_37...   \n",
       "15  5rTM-4sB-iVpGSRJcSJV_Torrevieja - Salinas 1_37...   \n",
       "2   5rTM-4sB-iVpGSRJcSJV_Los Europeos - La Mata_38...   \n",
       "10  5rTM-4sB-iVpGSRJcSJV_Torrevieja - IesTorrevigi...   \n",
       "3   5rTM-4sB-iVpGSRJcSJV_Los Montesinos - Laguna N...   \n",
       "4   5rTM-4sB-iVpGSRJcSJV_Rojales - Raso Pequeno_38...   \n",
       "17  5rTM-4sB-iVpGSRJcSJV_Torrevieja - Salvador Rus...   \n",
       "9   5rTM-4sB-iVpGSRJcSJV_Torrevieja - ColegioRomua...   \n",
       "11  5rTM-4sB-iVpGSRJcSJV_Torrevieja - Los Balcones...   \n",
       "18  5rTM-4sB-iVpGSRJcSJV_Torrevieja - San Luis_38....   \n",
       "14  5rTM-4sB-iVpGSRJcSJV_Torrevieja - Marina Salin...   \n",
       "19  5rTM-4sB-iVpGSRJcSJV_Waldo Calero - Torrevieja...   \n",
       "12  5rTM-4sB-iVpGSRJcSJV_Torrevieja - Los Balcones...   \n",
       "1   5rTM-4sB-iVpGSRJcSJV_La Mata - Restaurante Alm...   \n",
       "8   5rTM-4sB-iVpGSRJcSJV_Torrevieja - Centro_37.97...   \n",
       "7   5rTM-4sB-iVpGSRJcSJV_Torrevieja - Aguas Nuevas...   \n",
       "6   5rTM-4sB-iVpGSRJcSJV_Torrevieja - Acequion_37....   \n",
       "5   5rTM-4sB-iVpGSRJcSJV_San Miguel_37.98729_-0.76...   \n",
       "0   5rTM-4sB-iVpGSRJcSJV_La Mata - Parque Natural_...   \n",
       "\n",
       "                                          sensor_type  count  \n",
       "13  {intensidadlluvia, evaporacion, lluviaultimaho...     11  \n",
       "16  {intensidadlluvia, lluviaultimahora, radiacion...     11  \n",
       "15  {intensidadlluvia, lluviaultimahora, radiacion...     11  \n",
       "2   {intensidadlluvia, lluviaultimahora, radiacion...     10  \n",
       "10  {intensidadlluvia, lluviaultimahora, humedad, ...      9  \n",
       "3   {intensidadlluvia, lluviaultimahora, radiacion...      9  \n",
       "4   {intensidadlluvia, lluviaultimahora, humedad, ...      9  \n",
       "17  {intensidadlluvia, evaporacion, lluviaultimaho...      9  \n",
       "9   {intensidadlluvia, lluviaultimahora, humedad, ...      9  \n",
       "11  {intensidadlluvia, lluviaultimahora, humedad, ...      9  \n",
       "18  {intensidadlluvia, lluviaultimahora, humedad, ...      8  \n",
       "14  {intensidadlluvia, lluviaultimahora, humedad, ...      8  \n",
       "19  {intensidadlluvia, lluviaultimahora, humedad, ...      8  \n",
       "12  {intensidadlluvia, lluviaultimahora, humedad, ...      8  \n",
       "1   {intensidadlluvia, lluviaultimahora, humedad, ...      8  \n",
       "8   {intensidadlluvia, lluviaultimahora, humedad, ...      8  \n",
       "7   {intensidadlluvia, lluviaultimahora, humedad, ...      8  \n",
       "6   {intensidadlluvia, lluviaultimahora, humedad, ...      8  \n",
       "5   {intensidadlluvia, humedad, lluvia, temperatur...      7  \n",
       "0   {intensidadlluvia, humedad, lluvia, temperatur...      7  "
      ]
     },
     "execution_count": 31,
     "metadata": {},
     "output_type": "execute_result"
    }
   ],
   "source": [
    "aggregated = df.groupby('location_id')['sensor_type'].apply(set).reset_index()\n",
    "aggregated['count'] = aggregated['sensor_type'].apply(len)\n",
    "aggregated = aggregated.sort_values(by=['count'], ascending=False)\n",
    "aggregated\n",
    "# res = aggregated['sensor_type'].apply(lambda x: list(x))"
   ]
  },
  {
   "cell_type": "code",
   "execution_count": 29,
   "metadata": {},
   "outputs": [
    {
     "name": "stdout",
     "output_type": "stream",
     "text": [
      "1\n",
      "2\n",
      "2\n",
      "1\n",
      "3\n",
      "1\n",
      "3\n",
      "1\n",
      "3\n",
      "1\n",
      "8\n",
      "8\n",
      "8\n",
      "8\n",
      "8\n",
      "8\n",
      "8\n",
      "8\n",
      "2\n",
      "2\n"
     ]
    }
   ],
   "source": [
    "for s in res:\n",
    "    print(sum(1 for r in res if s == r))"
   ]
  }
 ],
 "metadata": {
  "kernelspec": {
   "display_name": "torrevieja",
   "language": "python",
   "name": "python3"
  },
  "language_info": {
   "codemirror_mode": {
    "name": "ipython",
    "version": 3
   },
   "file_extension": ".py",
   "mimetype": "text/x-python",
   "name": "python",
   "nbconvert_exporter": "python",
   "pygments_lexer": "ipython3",
   "version": "3.12.4"
  }
 },
 "nbformat": 4,
 "nbformat_minor": 2
}
