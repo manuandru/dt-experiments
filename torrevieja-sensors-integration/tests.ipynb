{
 "cells": [
  {
   "cell_type": "code",
   "execution_count": null,
   "metadata": {},
   "outputs": [],
   "source": [
    "import requests, json"
   ]
  },
  {
   "cell_type": "code",
   "execution_count": null,
   "metadata": {},
   "outputs": [],
   "source": [
    "sensors = {\n",
    "    \"sonometer\": \"cVDqRI0BmK9pjniFeoOV\",\n",
    "    \"depth\": \"jRCJ548B1ljoqTiFLu0b\",\n",
    "    \"weather\": \"5rTM-4sB-iVpGSRJcSJV\",\n",
    "    \"counter_indoor\": \"hup4zYsBoTGoLusGWiIj\",\n",
    "    \"satellite\": \"2DjL-4sBzJIAy7teICbv\",\n",
    "    \"buoy\": \"UVztVI0BaNT-uedBhHl1\"\n",
    "}\n",
    "\n",
    "def get_url(sensor_id):\n",
    "    return f\"https://platon.grc.upv.es/sensingtools-api/api/user-hard-sensors/{sensor_id}/data/latest-values\""
   ]
  },
  {
   "cell_type": "code",
   "execution_count": null,
   "metadata": {},
   "outputs": [],
   "source": [
    "for sensor, sensor_id in sensors.items():\n",
    "    response = requests.get(get_url(sensor_id), verify=False)\n",
    "    with open(f\"sensors-data/{sensor}.json\", 'w') as f:\n",
    "        json.dump(response.json(), f, indent=4)"
   ]
  },
  {
   "cell_type": "code",
   "execution_count": null,
   "metadata": {},
   "outputs": [],
   "source": [
    "for d in data['data']:\n",
    "    print(d['sensor_type'])"
   ]
  },
  {
   "cell_type": "code",
   "execution_count": null,
   "metadata": {},
   "outputs": [],
   "source": [
    "response = requests.get(\"http://localhost:3000/data\").json()\n",
    "\n",
    "ids = set()\n",
    "for d in response['data']:\n",
    "    ids.add(d['location_id'])\n",
    "len(ids)"
   ]
  },
  {
   "cell_type": "code",
   "execution_count": null,
   "metadata": {},
   "outputs": [],
   "source": [
    "from dataclasses import dataclass\n",
    "\n",
    "@dataclass(frozen=True)\n",
    "class SensorInfo:\n",
    "    location_id: str # <sensorId>_<name>_<lat>_<lon>_<alt>\n",
    "    safe_location_id: str\n",
    "    sensor_id: str\n",
    "    name: str\n",
    "    timestamp: int # Unix ms timestamp\n",
    "    lat: str\n",
    "    lon: str\n",
    "    alt: str\n",
    "\n",
    "    def __eq__(self, value: object) -> bool:\n",
    "        return isinstance(value, SensorInfo) and value.location_id == self.location_id\n",
    "    \n",
    "    def __hash__(self) -> int:\n",
    "        return hash(self.location_id)\n",
    "\n",
    "class SensorMeasurement:\n",
    "    def __init__(self, sensor_info: SensorInfo, data: dict):\n",
    "        self.sensor_info = sensor_info\n",
    "        for key, value in data.items():\n",
    "            self.__setattr__(key, value)\n",
    "    \n",
    "    def toJSON(self):\n",
    "        return json.dumps(self, default=lambda o: o.__dict__, indent=4)"
   ]
  },
  {
   "cell_type": "code",
   "execution_count": null,
   "metadata": {},
   "outputs": [],
   "source": [
    "from base64 import b64encode\n",
    "\n",
    "def parse_request_data(sensor_id, data) -> dict[SensorInfo, dict[str, str]]:\n",
    "    sensors_data: dict[SensorInfo, dict[str, str]] = {}\n",
    "    for data in response['data']:\n",
    "        sensor_info = SensorInfo(\n",
    "            location_id=data['location_id'],\n",
    "            safe_location_id=b64encode(data['location_id'].encode()),\n",
    "            sensor_id=sensor_id,\n",
    "            name=data['name'],\n",
    "            timestamp=data['timestamp'],\n",
    "            lat=data['lat'],\n",
    "            lon=data['lon'],\n",
    "            alt=data['alt']\n",
    "        )\n",
    "        if sensor_info not in sensors_data:\n",
    "            sensors_data[sensor_info] = {}\n",
    "        sensors_data[sensor_info][data['sensor_type']] = data['value']\n",
    "    return sensors_data"
   ]
  },
  {
   "cell_type": "code",
   "execution_count": null,
   "metadata": {},
   "outputs": [],
   "source": [
    "endpoints = [\"buoy\", \"counter_indoor\", \"depth\", \"satellite\", \"sonometer\", \"weather\"]\n",
    "inputs = []\n",
    "result = []\n",
    "\n",
    "for endpoint in endpoints:\n",
    "    response = requests.get(f\"http://localhost:3000/{endpoint}\").json()\n",
    "    inputs.append(response)\n",
    "    sensors_data = parse_request_data(sensors[endpoint], response)\n",
    "    result.append(sensors_data)"
   ]
  },
  {
   "cell_type": "code",
   "execution_count": null,
   "metadata": {},
   "outputs": [],
   "source": [
    "from paho.mqtt import client as mqtt_client\n",
    "\n",
    "broker = 'localhost'\n",
    "port = 1883\n",
    "# topic = \"sensors/\"\n",
    "\n",
    "def connect_mqtt() -> mqtt_client.Client:\n",
    "    def on_connect(client, userdata, flags, rc):\n",
    "        if rc == 0:\n",
    "            print(\"Connected to MQTT Broker!\")\n",
    "        else:\n",
    "            print(\"Failed to connect, return code %d\\n\", rc)\n",
    "\n",
    "    client = mqtt_client.Client()\n",
    "    client.on_connect = on_connect\n",
    "    client.connect(broker, port)\n",
    "    return client\n",
    "\n",
    "def publish(client, topic, msg):\n",
    "    result = client.publish(topic, msg)\n",
    "    status = result[0]\n",
    "    if status == 0:\n",
    "        print(f\"Send `{msg}` to topic `{topic}`\")\n",
    "    else:\n",
    "        print(f\"Failed to send message to topic {topic}\")\n",
    "\n",
    "client = connect_mqtt()\n",
    "# client.loop_start()\n",
    "\n",
    "for data in result:\n",
    "    for sensor_info, data in data.items():\n",
    "        sensor_measurement = SensorMeasurement(sensor_info, data)\n",
    "        publish(client, f\"sensors/{sensor_measurement.sensor_info.location_id}\", sensor_measurement.toJSON())"
   ]
  },
  {
   "cell_type": "code",
   "execution_count": null,
   "metadata": {},
   "outputs": [],
   "source": [
    "measure = SensorMeasurement(sensor_info, sensors_data[sensor_info])\n",
    "\n",
    "for sensor_info, data in sensors_data.items():\n",
    "    measure = SensorMeasurement(sensor_info, data)\n",
    "    print(measure.toJSON())"
   ]
  }
 ],
 "metadata": {
  "kernelspec": {
   "display_name": "torrevieja",
   "language": "python",
   "name": "python3"
  },
  "language_info": {
   "codemirror_mode": {
    "name": "ipython",
    "version": 3
   },
   "file_extension": ".py",
   "mimetype": "text/x-python",
   "name": "python",
   "nbconvert_exporter": "python",
   "pygments_lexer": "ipython3",
   "version": "3.12.4"
  }
 },
 "nbformat": 4,
 "nbformat_minor": 2
}
